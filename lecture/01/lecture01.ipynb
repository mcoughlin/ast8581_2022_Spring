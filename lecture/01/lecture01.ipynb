{
 "cells": [
  {
   "cell_type": "code",
   "execution_count": 1,
   "metadata": {
    "slideshow": {
     "slide_type": "skip"
    }
   },
   "outputs": [
    {
     "data": {
      "text/plain": [
       "{'width': 1920, 'height': 1080, 'scroll': True}"
      ]
     },
     "execution_count": 1,
     "metadata": {},
     "output_type": "execute_result"
    }
   ],
   "source": [
    "from notebook.services.config import ConfigManager\n",
    "cm = ConfigManager()\n",
    "cm.update('livereveal', {\n",
    "        'width': 1920,\n",
    "        'height': 1080,\n",
    "        'scroll': True,\n",
    "})"
   ]
  },
  {
   "cell_type": "markdown",
   "metadata": {
    "slideshow": {
     "slide_type": "slide"
    }
   },
   "source": [
    "# Week 01, AST 8581 / PHYS 8581 / CSCI 8581: Big Data in Astrophysics\n",
    "\n",
    "### Michael Coughlin <cough052@umn.edu>\n",
    "\n",
    "With contributions totally ripped off from Zjelko Ivezic and Mario Juric (UW), Gordon Richards (Drexel), Federica Bianco (U. Del), Maria Suveges (EPFL), and Gautham Narayan (UIUC)\n",
    "\n"
   ]
  },
  {
   "cell_type": "markdown",
   "metadata": {
    "slideshow": {
     "slide_type": "slide"
    }
   },
   "source": [
    "## Logistics\n",
    "\n",
    "* WAYS TO REACH ME\n",
    "    * Office Hours: TBD\n",
    "    * GitHub: https://github.com/mcoughlin/ast8581_2022_Spring (everything course related goes here)\n",
    "    * Email: Good for official-ish messages like “I’m missing class/a test.”\n",
    "* WAYS TO GET HELP\n",
    "    * Resources in the syllabus!\n",
    "    * come to office hours!\n",
    "    * stackoverflow (can be toxic)"
   ]
  },
  {
   "cell_type": "markdown",
   "metadata": {
    "slideshow": {
     "slide_type": "slide"
    }
   },
   "source": [
    "## RULES OF ENGAGEMENT\n",
    "\n",
    "* Being able to explain a concept is the ultimate test of understanding, and it's entirely possible to believe we have an understanding right up to the moment we try to explain it to someone else.\n",
    "* Therefore, asking questions during class is providing a service.\n",
    "* No feigning surprise: To enable everyone to be comfortable saying \"I don't understand\", please resist the urge to act surprised when someone admits to not knowing something.\n",
    "* No well-actually's: A well-actually happens when someone says something that's almost - but not entirely - correct, and you say, \"well, actually...\" and then give a minor correction. This is especially annoying when the correction has no bearing on the actual conversation.\n",
    "* No subtle-isms: It goes without saying that overt expressions of racism, sexism, homophobia, transphobia or other biases are unacceptable. We also need to avoid subtle expressions of bias that can make others uncomfortable and that are of no benefit to the learning environment. For example, the expression \"It's so easy my grandmother could do it\" is a subtle-ism."
   ]
  },
  {
   "cell_type": "markdown",
   "metadata": {
    "slideshow": {
     "slide_type": "slide"
    }
   },
   "source": [
    "## What are we here for?\n",
    "\n",
    "BY THE END OF THE CLASS, YOU SHOULD BE ABLE TO FORMULATE AN APPROPRIATE ANALYSIS PLAN FOR A RESEARCH QUESTION, SELECT GATHER AND PREPARE THE DATA, AND BUILD A MODEL TO DESCRIBE IT."
   ]
  },
  {
   "cell_type": "markdown",
   "metadata": {
    "slideshow": {
     "slide_type": "slide"
    }
   },
   "source": [
    "* It’s quite likely that you will be the last generation of astronomers to use telescopes directly.\n",
    "* We are moving from: The classical model - “What data do I have to collect to (dis)prove a hypothesis?” to the data-driven model - “What theories can I test given the data I already have?”\n",
    "\n",
    "  <center> <img src =\"./figures/cartoon.png\" width=\"800\"> </center>"
   ]
  },
  {
   "cell_type": "markdown",
   "metadata": {
    "slideshow": {
     "slide_type": "subslide"
    }
   },
   "source": [
    "## BUT THESE SURVEYS ARE MORE COMPLEX\n",
    "\n",
    "* Ever increasing data volume and complexity- SDSS is ~30 TB; LSST will be one SDSS per night, or a total of >100 PB of data (40 billion objects)\n",
    "* Sophisticated analysis, need for reproducibility - with the increasing data complexity, analysis becomes more complex, too; what do we do in case of disagreement?\n",
    "* Open-source approach improves efficiency\n",
    "   * we are not data starved any more!\n",
    "   * the bottleneck for new results is in human resources and analysis tools\n",
    "   * nobody has an unlimited budget; collaborate and share!"
   ]
  },
  {
   "cell_type": "markdown",
   "metadata": {
    "slideshow": {
     "slide_type": "subslide"
    }
   },
   "source": [
    "## Why github?\n",
    "\n",
    "* Reproducibility\n",
    "* Version control (git)\n",
    "* Collaborative platform"
   ]
  },
  {
   "cell_type": "markdown",
   "metadata": {
    "slideshow": {
     "slide_type": "subslide"
    }
   },
   "source": [
    "## Why python?\n",
    "\n",
    "* intuitive and readable\n",
    "* open source\n",
    "* support C integration for performance\n",
    "* packages designed for science:\n",
    "    * scipy\n",
    "    * numpy\n",
    "    * sklearn\n",
    "    * matplotlib"
   ]
  },
  {
   "cell_type": "markdown",
   "metadata": {
    "slideshow": {
     "slide_type": "subslide"
    }
   },
   "source": [
    "## ASTRO DATA ANALYSIS CHALLENGES\n",
    "* Large data volume (petabytes)\n",
    "* Large numbers of objects (billions)\n",
    "* Highly multi-dimensional spaces (thousands)\n",
    "* Unknown statistical distributions\n",
    "* Time-series data (irregular sampling)\n",
    "* Heteroskedastic errors, truncated, censored and missing data\n",
    "* Unreliable quantities (e.g. unknown systematics and random errors)"
   ]
  },
  {
   "cell_type": "markdown",
   "metadata": {
    "slideshow": {
     "slide_type": "subslide"
    }
   },
   "source": [
    "<center> <img src =\"./figures/data_science.png\" width=\"800\"> </center>"
   ]
  },
  {
   "cell_type": "markdown",
   "metadata": {
    "slideshow": {
     "slide_type": "subslide"
    }
   },
   "source": [
    "## ASTRO PYTHON\n",
    "* Mohit Sharma’s tutorial from Urban Computing Skills Lab: https://sharmamohit.com/work/tutorials/ucsl/\n",
    "* Federica Bianco’s Python Bootcamp: https://github.com/fedhere/PyBOOT\n",
    "* UW E-Science 2015 seminar on python: https://github.com/uwescience/python-seminar-2015\n",
    "* Text reference: https://www.southampton.ac.uk/~fangohr/training/python/pdfs/Python-for-Computational-Science-and-Engineering.pdf"
   ]
  },
  {
   "cell_type": "markdown",
   "metadata": {
    "slideshow": {
     "slide_type": "subslide"
    }
   },
   "source": [
    "## WHAT WE’RE GOING TO DO NEXT\n",
    "* install conda\n",
    "* install python env\n",
    "* install git if you don’t have it\n",
    "* create SSH keys\n",
    "* clone repo"
   ]
  }
 ],
 "metadata": {
  "celltoolbar": "Slideshow",
  "kernelspec": {
   "display_name": "Python 3 (ipykernel)",
   "language": "python",
   "name": "python3"
  },
  "language_info": {
   "codemirror_mode": {
    "name": "ipython",
    "version": 3
   },
   "file_extension": ".py",
   "mimetype": "text/x-python",
   "name": "python",
   "nbconvert_exporter": "python",
   "pygments_lexer": "ipython3",
   "version": "3.9.7"
  }
 },
 "nbformat": 4,
 "nbformat_minor": 2
}
